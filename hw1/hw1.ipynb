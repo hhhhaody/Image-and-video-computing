{
 "cells": [
  {
   "cell_type": "code",
   "execution_count": 1,
   "id": "systematic-morning",
   "metadata": {},
   "outputs": [],
   "source": [
    "import numpy as np\n",
    "import cv2"
   ]
  },
  {
   "cell_type": "code",
   "execution_count": 2,
   "id": "dutch-thousand",
   "metadata": {},
   "outputs": [],
   "source": [
    "image = cv2.imread(\"./IMG.JPG\")"
   ]
  },
  {
   "cell_type": "code",
   "execution_count": 3,
   "id": "affiliated-explorer",
   "metadata": {},
   "outputs": [],
   "source": [
    "[a,b,c]=image.shape\n",
    "a = np.zeros((a,b,1),np.uint8)"
   ]
  },
  {
   "cell_type": "code",
   "execution_count": 4,
   "id": "beneficial-cathedral",
   "metadata": {},
   "outputs": [
    {
     "data": {
      "text/plain": [
       "True"
      ]
     },
     "execution_count": 4,
     "metadata": {},
     "output_type": "execute_result"
    }
   ],
   "source": [
    "# greyscale\n",
    "for i in range(image.shape[0]):\n",
    "    for j in range(image.shape[1]):\n",
    "        [b,g,r] = image[i,j,:]\n",
    "        a[i,j,:]=0.1*b+0.6*g+0.3*r\n",
    "        \n",
    "cv2.imwrite(\"greyscale.jpg\", a)"
   ]
  },
  {
   "cell_type": "code",
   "execution_count": 5,
   "id": "domestic-standard",
   "metadata": {},
   "outputs": [],
   "source": [
    "b = np.zeros(a.shape,np.uint8)"
   ]
  },
  {
   "cell_type": "code",
   "execution_count": 6,
   "id": "anticipated-healthcare",
   "metadata": {},
   "outputs": [
    {
     "data": {
      "text/plain": [
       "True"
      ]
     },
     "execution_count": 6,
     "metadata": {},
     "output_type": "execute_result"
    }
   ],
   "source": [
    "# blur\n",
    "for i in range(1,a.shape[0]-1):\n",
    "    for j in range(1,a.shape[1]-1):\n",
    "        b[i,j,:] = (a[i-1,j-1,:]+a[i-1,j,:]+a[i-1,j+1,:]+a[i,j-1,:]+a[i,j,:]+a[i,j+1,:]+a[i+1,j-1,:]+a[i+1,j,:]+a[i+1,j+1,:])/9\n",
    "cv2.imwrite(\"blur.jpg\",b)"
   ]
  },
  {
   "cell_type": "code",
   "execution_count": null,
   "id": "collected-cowboy",
   "metadata": {},
   "outputs": [],
   "source": [
    "cv2.namedWindow(\"Display window\", cv2.WINDOW_AUTOSIZE)\n",
    "cv2.imshow(\"Display window\", a)\n",
    "cv2.waitKey(0)  \n",
    "cv2.namedWindow(\"Display window2\", cv2.WINDOW_AUTOSIZE)\n",
    "cv2.imshow(\"Display window2\", b)\n",
    "cv2.waitKey(0) \n",
    "  \n",
    "#closing all open windows  \n",
    "cv2.destroyAllWindows()\n",
    "cv2.waitKey(1)"
   ]
  }
 ],
 "metadata": {
  "kernelspec": {
   "display_name": "Python 3",
   "language": "python",
   "name": "python3"
  },
  "language_info": {
   "codemirror_mode": {
    "name": "ipython",
    "version": 3
   },
   "file_extension": ".py",
   "mimetype": "text/x-python",
   "name": "python",
   "nbconvert_exporter": "python",
   "pygments_lexer": "ipython3",
   "version": "3.9.1"
  }
 },
 "nbformat": 4,
 "nbformat_minor": 5
}
